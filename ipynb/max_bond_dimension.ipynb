{
 "cells": [
  {
   "cell_type": "markdown",
   "id": "398a6ed8-4290-410b-bb7c-63a0a8625699",
   "metadata": {},
   "source": [
    "# Max bond dimension"
   ]
  },
  {
   "cell_type": "code",
   "execution_count": null,
   "id": "c829be87-361a-4ffc-9b35-a9919e45a862",
   "metadata": {},
   "outputs": [],
   "source": [
    "from __future__ import annotations\n",
    "\n",
    "import random\n",
    "from typing import Sequence\n",
    "import numpy as np\n",
    "from qiskit import QuantumCircuit\n",
    "from qiskit import transpile\n",
    "from qiskit.quantum_info import Statevector\n",
    "from qiskit.circuit.random import random_circuit\n",
    "from qiskit_aer import AerSimulator\n",
    "from ttz.mps import MPS"
   ]
  },
  {
   "cell_type": "markdown",
   "id": "f7b754f3-ccd7-4364-bc2b-05a936dd7e4a",
   "metadata": {},
   "source": [
    "## Qiskit"
   ]
  },
  {
   "cell_type": "code",
   "execution_count": null,
   "id": "373e8fd8-d467-40a5-8ce1-d4beebad4e82",
   "metadata": {},
   "outputs": [],
   "source": [
    "def walk_tensors(tensors: Sequence, bond_dims: list[int]):\n",
    "    for t in tensors:\n",
    "        if isinstance(t, np.ndarray):\n",
    "            bond_dims.append(max(t.shape))\n",
    "        else:\n",
    "            walk_tensors(t, bond_dims)\n",
    "\n",
    "\n",
    "def generate_custom_random_circuit(num_qubits: int, depth: int, allowed_gates: list[str]):\n",
    "    qc = QuantumCircuit(num_qubits)\n",
    "\n",
    "    for _ in range(depth):\n",
    "        gate_type = random.choice(allowed_gates)\n",
    "\n",
    "        if gate_type in ['x', 'y', 'z', 'h', 't', 's']:\n",
    "            q = random.randint(0, num_qubits - 1)\n",
    "            eval(f'qc.{gate_type}(q)')\n",
    "\n",
    "        elif gate_type in ['rx', 'ry', 'rz']:\n",
    "            q = random.randint(0, num_qubits - 1)\n",
    "            theta = random.uniform(0, 2 * np.pi)\n",
    "            eval(f'qc.{gate_type}(theta, q)')\n",
    "\n",
    "        elif gate_type in ['cx', 'cy', 'cz']:\n",
    "            if num_qubits < 2:\n",
    "                continue\n",
    "            control, target = random.sample(range(num_qubits), 2)\n",
    "            eval(f'qc.{gate_type}(control, target)')\n",
    "\n",
    "    return qc\n",
    "\n",
    "\n",
    "allowed = ['h', 'rx', 'cx']\n",
    "random.seed(1234)\n",
    "rand_circ = generate_custom_random_circuit(num_qubits=10, depth=30, allowed_gates=allowed)\n",
    "rand_circ2 = rand_circ.copy()\n",
    "rand_circ2.save_matrix_product_state()\n",
    "\n",
    "sim = AerSimulator(method='matrix_product_state')\n",
    "#tcirc = transpile(rand_circ2, sim)\n",
    "result = sim.run(rand_circ2).result()\n",
    "mps = result.data(0)['matrix_product_state']\n",
    "\n",
    "bond_dims = []\n",
    "walk_tensors(mps, bond_dims)\n",
    "print(max(bond_dims), bond_dims)"
   ]
  },
  {
   "cell_type": "markdown",
   "id": "76163aeb-7272-4b46-942d-0ca2088aa34b",
   "metadata": {},
   "source": [
    "## TTZ"
   ]
  },
  {
   "cell_type": "code",
   "execution_count": null,
   "id": "08be50c9-d280-4d93-8f48-7cb6e1eee342",
   "metadata": {},
   "outputs": [],
   "source": [
    "def qc2mps(qc: QuantumCircuit) -> MPS:\n",
    "    mc = MPS(qc.num_qubits)\n",
    "    for inst in qc.data:\n",
    "        if inst.operation.num_qubits == 1:\n",
    "            idx0 = inst.qubits[0]._index\n",
    "            if len(inst.params) > 0:\n",
    "                eval(f'mc.{inst.name}({inst.params[0]}, {idx0})')\n",
    "            else:\n",
    "                eval(f'mc.{inst.name}({idx0})')\n",
    "        elif inst.operation.num_qubits == 2:\n",
    "            idx0 = inst.qubits[0]._index\n",
    "            idx1 = inst.qubits[1]._index\n",
    "            eval(f'mc.{inst.name}({idx0}, {idx1})')\n",
    "    return mc\n",
    "\n",
    "\n",
    "mps2 = qc2mps(rand_circ)\n",
    "print(np.allclose(Statevector(rand_circ), mps2.state_vector()))\n",
    "\n",
    "print('max bond dimension =', max([lam.shape[0] for lam in mps2._lambdas]))"
   ]
  }
 ],
 "metadata": {
  "kernelspec": {
   "display_name": "Python 3 (ipykernel)",
   "language": "python",
   "name": "python3"
  },
  "language_info": {
   "codemirror_mode": {
    "name": "ipython",
    "version": 3
   },
   "file_extension": ".py",
   "mimetype": "text/x-python",
   "name": "python",
   "nbconvert_exporter": "python",
   "pygments_lexer": "ipython3",
   "version": "3.11.9"
  }
 },
 "nbformat": 4,
 "nbformat_minor": 5
}
